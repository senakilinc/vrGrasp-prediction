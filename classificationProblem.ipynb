{
 "cells": [
  {
   "cell_type": "code",
   "execution_count": 1,
   "id": "d94b31eb",
   "metadata": {},
   "outputs": [],
   "source": [
    "import os\n",
    "import numpy as np\n",
    "import pandas as pd\n",
    "import matplotlib.pyplot as plt\n",
    "from scipy.interpolate import interp1d\n",
    "from featureExtraction import extract_grasp_polygons_over_time"
   ]
  },
  {
   "cell_type": "code",
   "execution_count": null,
   "id": "6e1b309f",
   "metadata": {},
   "outputs": [
    {
     "name": "stdout",
     "output_type": "stream",
     "text": [
      "(197, 31)\n",
      "   Timestamp  tip_edge0_x  tip_edge0_y  tip_edge0_z  tip_edge1_x  tip_edge1_y  \\\n",
      "0      37.63         4.96        -0.57         6.19         2.60        -0.13   \n",
      "1      37.64         4.96        -0.57         6.18         2.59        -0.13   \n",
      "2      37.65         4.96        -0.55         6.19         2.59        -0.13   \n",
      "3      37.67         4.96        -0.55         6.19         2.59        -0.13   \n",
      "4      37.68         4.96        -0.54         6.19         2.60        -0.13   \n",
      "\n",
      "   tip_edge1_z  tip_edge2_x  tip_edge2_y  tip_edge2_z  ...  \\\n",
      "0         0.75         1.98         0.04        -1.40  ...   \n",
      "1         0.76         1.99         0.05        -1.41  ...   \n",
      "2         0.75         2.00         0.04        -1.40  ...   \n",
      "3         0.75         1.99         0.05        -1.41  ...   \n",
      "4         0.75         2.00         0.04        -1.41  ...   \n",
      "\n",
      "   intermediate_edge1_z  intermediate_edge2_x  intermediate_edge2_y  \\\n",
      "0                  0.17                  1.93                 -0.27   \n",
      "1                  0.18                  1.93                 -0.26   \n",
      "2                  0.17                  1.93                 -0.27   \n",
      "3                  0.17                  1.94                 -0.26   \n",
      "4                  0.17                  1.94                 -0.27   \n",
      "\n",
      "   intermediate_edge2_z  intermediate_edge3_x  intermediate_edge3_y  \\\n",
      "0                 -1.29                  1.59                 -0.59   \n",
      "1                 -1.30                  1.59                 -0.59   \n",
      "2                 -1.29                  1.60                 -0.58   \n",
      "3                 -1.30                  1.59                 -0.58   \n",
      "4                 -1.30                  1.59                 -0.58   \n",
      "\n",
      "   intermediate_edge3_z  intermediate_edge4_x  intermediate_edge4_y  \\\n",
      "0                 -2.14                -10.01                  1.19   \n",
      "1                 -2.14                -10.01                  1.18   \n",
      "2                 -2.14                -10.02                  1.17   \n",
      "3                 -2.14                -10.02                  1.16   \n",
      "4                 -2.14                -10.03                  1.16   \n",
      "\n",
      "   intermediate_edge4_z  \n",
      "0                 -0.72  \n",
      "1                 -0.71  \n",
      "2                 -0.72  \n",
      "3                 -0.71  \n",
      "4                 -0.71  \n",
      "\n",
      "[5 rows x 31 columns]\n"
     ]
    }
   ],
   "source": [
    "df = pd.read_csv(\"processed/user0/User0_TransformLog_SmallCube_Grasp_config3.csv\")\n",
    "features= extract_grasp_polygons_over_time(df)\n",
    "print(features.shape)\n",
    "print(features.head())\n"
   ]
  },
  {
   "cell_type": "markdown",
   "id": "13462275",
   "metadata": {},
   "source": [
    "features shape meaning:\n",
    "\n",
    "| `197`     | Rows    | We have **197 timestamps (frames)** — i.e., 197 moments during this one grasp trial where features were extracted.\n",
    "\n",
    "| `31`      | Columns | We have **31 features per frame**: 30 edge vector features + 1 timestamp.      \n"
   ]
  }
 ],
 "metadata": {
  "kernelspec": {
   "display_name": "Python 3",
   "language": "python",
   "name": "python3"
  },
  "language_info": {
   "codemirror_mode": {
    "name": "ipython",
    "version": 3
   },
   "file_extension": ".py",
   "mimetype": "text/x-python",
   "name": "python",
   "nbconvert_exporter": "python",
   "pygments_lexer": "ipython3",
   "version": "3.11.9"
  }
 },
 "nbformat": 4,
 "nbformat_minor": 5
}
